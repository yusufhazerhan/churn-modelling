{
  "nbformat": 4,
  "nbformat_minor": 0,
  "metadata": {
    "colab": {
      "name": "Churn Classification.ipynb",
      "provenance": [],
      "collapsed_sections": []
    },
    "kernelspec": {
      "name": "python3",
      "display_name": "Python 3"
    }
  },
  "cells": [
    {
      "cell_type": "code",
      "metadata": {
        "id": "r7xM1D4O7qAz",
        "colab_type": "code",
        "colab": {}
      },
      "source": [
        "#Libraries\n",
        "import numpy as np\n",
        "import pandas as pd\n",
        "from keras.models import Sequential\n",
        "from keras.layers import Dense\n",
        "from sklearn.model_selection import train_test_split\n",
        "from sklearn.metrics import confusion_matrix\n",
        "from sklearn.preprocessing import LabelEncoder, OneHotEncoder, StandardScaler\n",
        "from sklearn.compose import ColumnTransformer"
      ],
      "execution_count": null,
      "outputs": []
    },
    {
      "cell_type": "code",
      "metadata": {
        "id": "y9VASDg675mz",
        "colab_type": "code",
        "colab": {
          "base_uri": "https://localhost:8080/",
          "height": 419
        },
        "outputId": "0ee49e67-c20d-427c-cfd3-0b4572576e96"
      },
      "source": [
        "dataFrame = pd.read_csv(\"Data/Churn_Modelling.csv\") #Importing dataset\n",
        "dataFrame"
      ],
      "execution_count": null,
      "outputs": [
        {
          "output_type": "execute_result",
          "data": {
            "text/html": [
              "<div>\n",
              "<style scoped>\n",
              "    .dataframe tbody tr th:only-of-type {\n",
              "        vertical-align: middle;\n",
              "    }\n",
              "\n",
              "    .dataframe tbody tr th {\n",
              "        vertical-align: top;\n",
              "    }\n",
              "\n",
              "    .dataframe thead th {\n",
              "        text-align: right;\n",
              "    }\n",
              "</style>\n",
              "<table border=\"1\" class=\"dataframe\">\n",
              "  <thead>\n",
              "    <tr style=\"text-align: right;\">\n",
              "      <th></th>\n",
              "      <th>RowNumber</th>\n",
              "      <th>CustomerId</th>\n",
              "      <th>Surname</th>\n",
              "      <th>CreditScore</th>\n",
              "      <th>Geography</th>\n",
              "      <th>Gender</th>\n",
              "      <th>Age</th>\n",
              "      <th>Tenure</th>\n",
              "      <th>Balance</th>\n",
              "      <th>NumOfProducts</th>\n",
              "      <th>HasCrCard</th>\n",
              "      <th>IsActiveMember</th>\n",
              "      <th>EstimatedSalary</th>\n",
              "      <th>Exited</th>\n",
              "    </tr>\n",
              "  </thead>\n",
              "  <tbody>\n",
              "    <tr>\n",
              "      <th>0</th>\n",
              "      <td>1</td>\n",
              "      <td>15634602</td>\n",
              "      <td>Hargrave</td>\n",
              "      <td>619</td>\n",
              "      <td>France</td>\n",
              "      <td>Female</td>\n",
              "      <td>42</td>\n",
              "      <td>2</td>\n",
              "      <td>0.00</td>\n",
              "      <td>1</td>\n",
              "      <td>1</td>\n",
              "      <td>1</td>\n",
              "      <td>101348.88</td>\n",
              "      <td>1</td>\n",
              "    </tr>\n",
              "    <tr>\n",
              "      <th>1</th>\n",
              "      <td>2</td>\n",
              "      <td>15647311</td>\n",
              "      <td>Hill</td>\n",
              "      <td>608</td>\n",
              "      <td>Spain</td>\n",
              "      <td>Female</td>\n",
              "      <td>41</td>\n",
              "      <td>1</td>\n",
              "      <td>83807.86</td>\n",
              "      <td>1</td>\n",
              "      <td>0</td>\n",
              "      <td>1</td>\n",
              "      <td>112542.58</td>\n",
              "      <td>0</td>\n",
              "    </tr>\n",
              "    <tr>\n",
              "      <th>2</th>\n",
              "      <td>3</td>\n",
              "      <td>15619304</td>\n",
              "      <td>Onio</td>\n",
              "      <td>502</td>\n",
              "      <td>France</td>\n",
              "      <td>Female</td>\n",
              "      <td>42</td>\n",
              "      <td>8</td>\n",
              "      <td>159660.80</td>\n",
              "      <td>3</td>\n",
              "      <td>1</td>\n",
              "      <td>0</td>\n",
              "      <td>113931.57</td>\n",
              "      <td>1</td>\n",
              "    </tr>\n",
              "    <tr>\n",
              "      <th>3</th>\n",
              "      <td>4</td>\n",
              "      <td>15701354</td>\n",
              "      <td>Boni</td>\n",
              "      <td>699</td>\n",
              "      <td>France</td>\n",
              "      <td>Female</td>\n",
              "      <td>39</td>\n",
              "      <td>1</td>\n",
              "      <td>0.00</td>\n",
              "      <td>2</td>\n",
              "      <td>0</td>\n",
              "      <td>0</td>\n",
              "      <td>93826.63</td>\n",
              "      <td>0</td>\n",
              "    </tr>\n",
              "    <tr>\n",
              "      <th>4</th>\n",
              "      <td>5</td>\n",
              "      <td>15737888</td>\n",
              "      <td>Mitchell</td>\n",
              "      <td>850</td>\n",
              "      <td>Spain</td>\n",
              "      <td>Female</td>\n",
              "      <td>43</td>\n",
              "      <td>2</td>\n",
              "      <td>125510.82</td>\n",
              "      <td>1</td>\n",
              "      <td>1</td>\n",
              "      <td>1</td>\n",
              "      <td>79084.10</td>\n",
              "      <td>0</td>\n",
              "    </tr>\n",
              "    <tr>\n",
              "      <th>...</th>\n",
              "      <td>...</td>\n",
              "      <td>...</td>\n",
              "      <td>...</td>\n",
              "      <td>...</td>\n",
              "      <td>...</td>\n",
              "      <td>...</td>\n",
              "      <td>...</td>\n",
              "      <td>...</td>\n",
              "      <td>...</td>\n",
              "      <td>...</td>\n",
              "      <td>...</td>\n",
              "      <td>...</td>\n",
              "      <td>...</td>\n",
              "      <td>...</td>\n",
              "    </tr>\n",
              "    <tr>\n",
              "      <th>9995</th>\n",
              "      <td>9996</td>\n",
              "      <td>15606229</td>\n",
              "      <td>Obijiaku</td>\n",
              "      <td>771</td>\n",
              "      <td>France</td>\n",
              "      <td>Male</td>\n",
              "      <td>39</td>\n",
              "      <td>5</td>\n",
              "      <td>0.00</td>\n",
              "      <td>2</td>\n",
              "      <td>1</td>\n",
              "      <td>0</td>\n",
              "      <td>96270.64</td>\n",
              "      <td>0</td>\n",
              "    </tr>\n",
              "    <tr>\n",
              "      <th>9996</th>\n",
              "      <td>9997</td>\n",
              "      <td>15569892</td>\n",
              "      <td>Johnstone</td>\n",
              "      <td>516</td>\n",
              "      <td>France</td>\n",
              "      <td>Male</td>\n",
              "      <td>35</td>\n",
              "      <td>10</td>\n",
              "      <td>57369.61</td>\n",
              "      <td>1</td>\n",
              "      <td>1</td>\n",
              "      <td>1</td>\n",
              "      <td>101699.77</td>\n",
              "      <td>0</td>\n",
              "    </tr>\n",
              "    <tr>\n",
              "      <th>9997</th>\n",
              "      <td>9998</td>\n",
              "      <td>15584532</td>\n",
              "      <td>Liu</td>\n",
              "      <td>709</td>\n",
              "      <td>France</td>\n",
              "      <td>Female</td>\n",
              "      <td>36</td>\n",
              "      <td>7</td>\n",
              "      <td>0.00</td>\n",
              "      <td>1</td>\n",
              "      <td>0</td>\n",
              "      <td>1</td>\n",
              "      <td>42085.58</td>\n",
              "      <td>1</td>\n",
              "    </tr>\n",
              "    <tr>\n",
              "      <th>9998</th>\n",
              "      <td>9999</td>\n",
              "      <td>15682355</td>\n",
              "      <td>Sabbatini</td>\n",
              "      <td>772</td>\n",
              "      <td>Germany</td>\n",
              "      <td>Male</td>\n",
              "      <td>42</td>\n",
              "      <td>3</td>\n",
              "      <td>75075.31</td>\n",
              "      <td>2</td>\n",
              "      <td>1</td>\n",
              "      <td>0</td>\n",
              "      <td>92888.52</td>\n",
              "      <td>1</td>\n",
              "    </tr>\n",
              "    <tr>\n",
              "      <th>9999</th>\n",
              "      <td>10000</td>\n",
              "      <td>15628319</td>\n",
              "      <td>Walker</td>\n",
              "      <td>792</td>\n",
              "      <td>France</td>\n",
              "      <td>Female</td>\n",
              "      <td>28</td>\n",
              "      <td>4</td>\n",
              "      <td>130142.79</td>\n",
              "      <td>1</td>\n",
              "      <td>1</td>\n",
              "      <td>0</td>\n",
              "      <td>38190.78</td>\n",
              "      <td>0</td>\n",
              "    </tr>\n",
              "  </tbody>\n",
              "</table>\n",
              "<p>10000 rows × 14 columns</p>\n",
              "</div>"
            ],
            "text/plain": [
              "      RowNumber  CustomerId    Surname  ...  IsActiveMember EstimatedSalary Exited\n",
              "0             1    15634602   Hargrave  ...               1       101348.88      1\n",
              "1             2    15647311       Hill  ...               1       112542.58      0\n",
              "2             3    15619304       Onio  ...               0       113931.57      1\n",
              "3             4    15701354       Boni  ...               0        93826.63      0\n",
              "4             5    15737888   Mitchell  ...               1        79084.10      0\n",
              "...         ...         ...        ...  ...             ...             ...    ...\n",
              "9995       9996    15606229   Obijiaku  ...               0        96270.64      0\n",
              "9996       9997    15569892  Johnstone  ...               1       101699.77      0\n",
              "9997       9998    15584532        Liu  ...               1        42085.58      1\n",
              "9998       9999    15682355  Sabbatini  ...               0        92888.52      1\n",
              "9999      10000    15628319     Walker  ...               0        38190.78      0\n",
              "\n",
              "[10000 rows x 14 columns]"
            ]
          },
          "metadata": {
            "tags": []
          },
          "execution_count": 3
        }
      ]
    },
    {
      "cell_type": "code",
      "metadata": {
        "id": "mp0FR8NA8Av6",
        "colab_type": "code",
        "colab": {
          "base_uri": "https://localhost:8080/",
          "height": 85
        },
        "outputId": "3318e19e-5254-4ae1-8488-a54351c1bd4f"
      },
      "source": [
        "dataFrame.columns"
      ],
      "execution_count": null,
      "outputs": [
        {
          "output_type": "execute_result",
          "data": {
            "text/plain": [
              "Index(['RowNumber', 'CustomerId', 'Surname', 'CreditScore', 'Geography',\n",
              "       'Gender', 'Age', 'Tenure', 'Balance', 'NumOfProducts', 'HasCrCard',\n",
              "       'IsActiveMember', 'EstimatedSalary', 'Exited'],\n",
              "      dtype='object')"
            ]
          },
          "metadata": {
            "tags": []
          },
          "execution_count": 4
        }
      ]
    },
    {
      "cell_type": "code",
      "metadata": {
        "id": "P4LtxB0D8Dwi",
        "colab_type": "code",
        "colab": {
          "base_uri": "https://localhost:8080/",
          "height": 85
        },
        "outputId": "dc33a755-c85c-428b-a8ab-9740296cb36d"
      },
      "source": [
        "dataFrame.drop(columns=[\"RowNumber\",\"CustomerId\",\"Surname\"], inplace=True)\n",
        "dataFrame.columns"
      ],
      "execution_count": null,
      "outputs": [
        {
          "output_type": "execute_result",
          "data": {
            "text/plain": [
              "Index(['CreditScore', 'Geography', 'Gender', 'Age', 'Tenure', 'Balance',\n",
              "       'NumOfProducts', 'HasCrCard', 'IsActiveMember', 'EstimatedSalary',\n",
              "       'Exited'],\n",
              "      dtype='object')"
            ]
          },
          "metadata": {
            "tags": []
          },
          "execution_count": 5
        }
      ]
    },
    {
      "cell_type": "code",
      "metadata": {
        "id": "2_6uAGV68Ejh",
        "colab_type": "code",
        "colab": {
          "base_uri": "https://localhost:8080/",
          "height": 221
        },
        "outputId": "4e458f64-c1d4-44f5-a4d2-8908d7889a7c"
      },
      "source": [
        "dataFrame.isna().sum()"
      ],
      "execution_count": null,
      "outputs": [
        {
          "output_type": "execute_result",
          "data": {
            "text/plain": [
              "CreditScore        0\n",
              "Geography          0\n",
              "Gender             0\n",
              "Age                0\n",
              "Tenure             0\n",
              "Balance            0\n",
              "NumOfProducts      0\n",
              "HasCrCard          0\n",
              "IsActiveMember     0\n",
              "EstimatedSalary    0\n",
              "Exited             0\n",
              "dtype: int64"
            ]
          },
          "metadata": {
            "tags": []
          },
          "execution_count": 6
        }
      ]
    },
    {
      "cell_type": "code",
      "metadata": {
        "id": "TKH_kxZv8Ffh",
        "colab_type": "code",
        "colab": {
          "base_uri": "https://localhost:8080/",
          "height": 425
        },
        "outputId": "b6f9713c-a221-48cd-ba6a-35e142dac021"
      },
      "source": [
        "#Encoding categorical columns\n",
        "le= LabelEncoder()\n",
        "dataFrame[\"Geography\"]=le.fit_transform(dataFrame[\"Geography\"])\n",
        "dataFrame[\"Gender\"]= le.fit_transform(dataFrame[\"Gender\"])\n",
        "print(dataFrame[\"Gender\"])\n",
        "print(dataFrame[\"Geography\"])"
      ],
      "execution_count": null,
      "outputs": [
        {
          "output_type": "stream",
          "text": [
            "0       0\n",
            "1       0\n",
            "2       0\n",
            "3       0\n",
            "4       0\n",
            "       ..\n",
            "9995    1\n",
            "9996    1\n",
            "9997    0\n",
            "9998    1\n",
            "9999    0\n",
            "Name: Gender, Length: 10000, dtype: int64\n",
            "0       0\n",
            "1       2\n",
            "2       0\n",
            "3       0\n",
            "4       2\n",
            "       ..\n",
            "9995    0\n",
            "9996    0\n",
            "9997    0\n",
            "9998    1\n",
            "9999    0\n",
            "Name: Geography, Length: 10000, dtype: int64\n"
          ],
          "name": "stdout"
        }
      ]
    },
    {
      "cell_type": "code",
      "metadata": {
        "id": "P2CtDJ7W8Gb5",
        "colab_type": "code",
        "colab": {}
      },
      "source": [
        "x= dataFrame.iloc[:,:10].values \n",
        "y= dataFrame.iloc[:,-1].values"
      ],
      "execution_count": null,
      "outputs": []
    },
    {
      "cell_type": "code",
      "metadata": {
        "id": "P48_GY8k8LH5",
        "colab_type": "code",
        "colab": {}
      },
      "source": [
        "#OneHotEncoding \"Geography\" column\n",
        "ohe=ColumnTransformer([(\"ohe\", OneHotEncoder(dtype=float),[1])], \n",
        "                      remainder=\"passthrough\")\n",
        "x=ohe.fit_transform(x)"
      ],
      "execution_count": null,
      "outputs": []
    },
    {
      "cell_type": "code",
      "metadata": {
        "id": "HLF8Kjgq8M7x",
        "colab_type": "code",
        "colab": {}
      },
      "source": [
        "#Spliting dataset and Standardization data\n",
        "x_train, x_test, y_train, y_test = train_test_split(x, y, test_size=0.33, random_state=5)\n",
        "sc= StandardScaler()\n",
        "X_train= sc.fit_transform(x_train)\n",
        "X_test= sc.fit_transform(x_test)"
      ],
      "execution_count": null,
      "outputs": []
    },
    {
      "cell_type": "code",
      "metadata": {
        "id": "PbUZ6HQP8sup",
        "colab_type": "code",
        "colab": {
          "base_uri": "https://localhost:8080/",
          "height": 238
        },
        "outputId": "a88698d6-9437-4193-9e57-6c0cfc40ad2c"
      },
      "source": [
        "X_train"
      ],
      "execution_count": null,
      "outputs": [
        {
          "output_type": "execute_result",
          "data": {
            "text/plain": [
              "array([[ 0.58539335, -0.58539335,  1.00119474, ...,  0.65488632,\n",
              "        -1.02631631, -0.49076078],\n",
              "       [ 0.58539335, -0.58539335,  1.00119474, ..., -1.52698257,\n",
              "        -1.02631631,  1.59170218],\n",
              "       [ 0.58539335, -0.58539335, -0.99880668, ...,  0.65488632,\n",
              "         0.97435848, -0.34479182],\n",
              "       ...,\n",
              "       [ 0.58539335, -0.58539335,  1.00119474, ...,  0.65488632,\n",
              "        -1.02631631, -1.50953432],\n",
              "       [ 0.58539335, -0.58539335,  1.00119474, ..., -1.52698257,\n",
              "         0.97435848,  1.26969153],\n",
              "       [-1.7082531 ,  1.7082531 , -0.99880668, ...,  0.65488632,\n",
              "        -1.02631631, -1.08036997]])"
            ]
          },
          "metadata": {
            "tags": []
          },
          "execution_count": 14
        }
      ]
    },
    {
      "cell_type": "code",
      "metadata": {
        "id": "0A8kZJ2i8uVB",
        "colab_type": "code",
        "colab": {}
      },
      "source": [
        "#Creating Model\n",
        "annClassifier= Sequential()\n",
        "annClassifier.add(Dense(6, activation=\"relu\"))\n",
        "annClassifier.add(Dense(6, activation=\"relu\"))\n",
        "#output layer\n",
        "annClassifier.add(Dense(1, activation=\"sigmoid\"))\n",
        "\n",
        "annClassifier.compile(optimizer=\"adam\", loss=\"binary_crossentropy\", metrics=[\"accuracy\"])"
      ],
      "execution_count": null,
      "outputs": []
    },
    {
      "cell_type": "code",
      "metadata": {
        "id": "pHwv6y4T88gR",
        "colab_type": "code",
        "colab": {
          "base_uri": "https://localhost:8080/",
          "height": 1000
        },
        "outputId": "55244ef6-3cae-40f4-e3a0-3e51c115f2a3"
      },
      "source": [
        "annClassifier.fit(X_train, y_train, batch_size= 50, epochs=100)"
      ],
      "execution_count": null,
      "outputs": [
        {
          "output_type": "stream",
          "text": [
            "Epoch 1/100\n",
            "134/134 [==============================] - 0s 998us/step - loss: 0.6174 - accuracy: 0.7097\n",
            "Epoch 2/100\n",
            "134/134 [==============================] - 0s 1ms/step - loss: 0.5086 - accuracy: 0.7955\n",
            "Epoch 3/100\n",
            "134/134 [==============================] - 0s 1ms/step - loss: 0.4711 - accuracy: 0.7963\n",
            "Epoch 4/100\n",
            "134/134 [==============================] - 0s 1ms/step - loss: 0.4510 - accuracy: 0.7963\n",
            "Epoch 5/100\n",
            "134/134 [==============================] - 0s 1ms/step - loss: 0.4359 - accuracy: 0.7963\n",
            "Epoch 6/100\n",
            "134/134 [==============================] - 0s 1ms/step - loss: 0.4231 - accuracy: 0.7979\n",
            "Epoch 7/100\n",
            "134/134 [==============================] - 0s 1ms/step - loss: 0.4095 - accuracy: 0.8066\n",
            "Epoch 8/100\n",
            "134/134 [==============================] - 0s 1ms/step - loss: 0.3975 - accuracy: 0.8131\n",
            "Epoch 9/100\n",
            "134/134 [==============================] - 0s 984us/step - loss: 0.3887 - accuracy: 0.8170\n",
            "Epoch 10/100\n",
            "134/134 [==============================] - 0s 1ms/step - loss: 0.3822 - accuracy: 0.8181\n",
            "Epoch 11/100\n",
            "134/134 [==============================] - 0s 1ms/step - loss: 0.3775 - accuracy: 0.8197\n",
            "Epoch 12/100\n",
            "134/134 [==============================] - 0s 1ms/step - loss: 0.3741 - accuracy: 0.8196\n",
            "Epoch 13/100\n",
            "134/134 [==============================] - 0s 996us/step - loss: 0.3714 - accuracy: 0.8204\n",
            "Epoch 14/100\n",
            "134/134 [==============================] - 0s 1ms/step - loss: 0.3692 - accuracy: 0.8203\n",
            "Epoch 15/100\n",
            "134/134 [==============================] - 0s 1ms/step - loss: 0.3674 - accuracy: 0.8201\n",
            "Epoch 16/100\n",
            "134/134 [==============================] - 0s 1ms/step - loss: 0.3657 - accuracy: 0.8206\n",
            "Epoch 17/100\n",
            "134/134 [==============================] - 0s 1ms/step - loss: 0.3646 - accuracy: 0.8290\n",
            "Epoch 18/100\n",
            "134/134 [==============================] - 0s 1ms/step - loss: 0.3634 - accuracy: 0.8467\n",
            "Epoch 19/100\n",
            "134/134 [==============================] - 0s 995us/step - loss: 0.3622 - accuracy: 0.8493\n",
            "Epoch 20/100\n",
            "134/134 [==============================] - 0s 987us/step - loss: 0.3613 - accuracy: 0.8485\n",
            "Epoch 21/100\n",
            "134/134 [==============================] - 0s 1ms/step - loss: 0.3605 - accuracy: 0.8488\n",
            "Epoch 22/100\n",
            "134/134 [==============================] - 0s 1ms/step - loss: 0.3592 - accuracy: 0.8496\n",
            "Epoch 23/100\n",
            "134/134 [==============================] - 0s 1ms/step - loss: 0.3589 - accuracy: 0.8510\n",
            "Epoch 24/100\n",
            "134/134 [==============================] - 0s 969us/step - loss: 0.3581 - accuracy: 0.8504\n",
            "Epoch 25/100\n",
            "134/134 [==============================] - 0s 1ms/step - loss: 0.3574 - accuracy: 0.8501\n",
            "Epoch 26/100\n",
            "134/134 [==============================] - 0s 1ms/step - loss: 0.3569 - accuracy: 0.8512\n",
            "Epoch 27/100\n",
            "134/134 [==============================] - 0s 1ms/step - loss: 0.3559 - accuracy: 0.8522\n",
            "Epoch 28/100\n",
            "134/134 [==============================] - 0s 1ms/step - loss: 0.3554 - accuracy: 0.8531\n",
            "Epoch 29/100\n",
            "134/134 [==============================] - 0s 1ms/step - loss: 0.3551 - accuracy: 0.8524\n",
            "Epoch 30/100\n",
            "134/134 [==============================] - 0s 1ms/step - loss: 0.3545 - accuracy: 0.8528\n",
            "Epoch 31/100\n",
            "134/134 [==============================] - 0s 1ms/step - loss: 0.3537 - accuracy: 0.8551\n",
            "Epoch 32/100\n",
            "134/134 [==============================] - 0s 1ms/step - loss: 0.3536 - accuracy: 0.8536\n",
            "Epoch 33/100\n",
            "134/134 [==============================] - 0s 1ms/step - loss: 0.3523 - accuracy: 0.8543\n",
            "Epoch 34/100\n",
            "134/134 [==============================] - 0s 1ms/step - loss: 0.3517 - accuracy: 0.8569\n",
            "Epoch 35/100\n",
            "134/134 [==============================] - 0s 1ms/step - loss: 0.3513 - accuracy: 0.8549\n",
            "Epoch 36/100\n",
            "134/134 [==============================] - 0s 1ms/step - loss: 0.3505 - accuracy: 0.8561\n",
            "Epoch 37/100\n",
            "134/134 [==============================] - 0s 1ms/step - loss: 0.3500 - accuracy: 0.8573\n",
            "Epoch 38/100\n",
            "134/134 [==============================] - 0s 1ms/step - loss: 0.3495 - accuracy: 0.8578\n",
            "Epoch 39/100\n",
            "134/134 [==============================] - 0s 1ms/step - loss: 0.3487 - accuracy: 0.8573\n",
            "Epoch 40/100\n",
            "134/134 [==============================] - 0s 1ms/step - loss: 0.3486 - accuracy: 0.8581\n",
            "Epoch 41/100\n",
            "134/134 [==============================] - 0s 985us/step - loss: 0.3480 - accuracy: 0.8597\n",
            "Epoch 42/100\n",
            "134/134 [==============================] - 0s 1ms/step - loss: 0.3472 - accuracy: 0.8591\n",
            "Epoch 43/100\n",
            "134/134 [==============================] - 0s 1ms/step - loss: 0.3462 - accuracy: 0.8604\n",
            "Epoch 44/100\n",
            "134/134 [==============================] - 0s 1ms/step - loss: 0.3459 - accuracy: 0.8591\n",
            "Epoch 45/100\n",
            "134/134 [==============================] - 0s 1ms/step - loss: 0.3455 - accuracy: 0.8604\n",
            "Epoch 46/100\n",
            "134/134 [==============================] - 0s 1ms/step - loss: 0.3452 - accuracy: 0.8606\n",
            "Epoch 47/100\n",
            "134/134 [==============================] - 0s 1ms/step - loss: 0.3444 - accuracy: 0.8604\n",
            "Epoch 48/100\n",
            "134/134 [==============================] - 0s 1ms/step - loss: 0.3437 - accuracy: 0.8618\n",
            "Epoch 49/100\n",
            "134/134 [==============================] - 0s 1ms/step - loss: 0.3437 - accuracy: 0.8622\n",
            "Epoch 50/100\n",
            "134/134 [==============================] - 0s 1ms/step - loss: 0.3433 - accuracy: 0.8612\n",
            "Epoch 51/100\n",
            "134/134 [==============================] - 0s 1ms/step - loss: 0.3433 - accuracy: 0.8607\n",
            "Epoch 52/100\n",
            "134/134 [==============================] - 0s 1ms/step - loss: 0.3425 - accuracy: 0.8618\n",
            "Epoch 53/100\n",
            "134/134 [==============================] - 0s 995us/step - loss: 0.3423 - accuracy: 0.8613\n",
            "Epoch 54/100\n",
            "134/134 [==============================] - 0s 991us/step - loss: 0.3420 - accuracy: 0.8616\n",
            "Epoch 55/100\n",
            "134/134 [==============================] - 0s 1ms/step - loss: 0.3418 - accuracy: 0.8622\n",
            "Epoch 56/100\n",
            "134/134 [==============================] - 0s 1ms/step - loss: 0.3414 - accuracy: 0.8621\n",
            "Epoch 57/100\n",
            "134/134 [==============================] - 0s 1ms/step - loss: 0.3407 - accuracy: 0.8634\n",
            "Epoch 58/100\n",
            "134/134 [==============================] - 0s 1ms/step - loss: 0.3406 - accuracy: 0.8630\n",
            "Epoch 59/100\n",
            "134/134 [==============================] - 0s 1ms/step - loss: 0.3401 - accuracy: 0.8627\n",
            "Epoch 60/100\n",
            "134/134 [==============================] - 0s 974us/step - loss: 0.3400 - accuracy: 0.8624\n",
            "Epoch 61/100\n",
            "134/134 [==============================] - 0s 1ms/step - loss: 0.3396 - accuracy: 0.8642\n",
            "Epoch 62/100\n",
            "134/134 [==============================] - 0s 993us/step - loss: 0.3395 - accuracy: 0.8625\n",
            "Epoch 63/100\n",
            "134/134 [==============================] - 0s 1ms/step - loss: 0.3392 - accuracy: 0.8642\n",
            "Epoch 64/100\n",
            "134/134 [==============================] - 0s 992us/step - loss: 0.3391 - accuracy: 0.8643\n",
            "Epoch 65/100\n",
            "134/134 [==============================] - 0s 1ms/step - loss: 0.3384 - accuracy: 0.8642\n",
            "Epoch 66/100\n",
            "134/134 [==============================] - 0s 1ms/step - loss: 0.3381 - accuracy: 0.8654\n",
            "Epoch 67/100\n",
            "134/134 [==============================] - 0s 1ms/step - loss: 0.3381 - accuracy: 0.8627\n",
            "Epoch 68/100\n",
            "134/134 [==============================] - 0s 1ms/step - loss: 0.3377 - accuracy: 0.8636\n",
            "Epoch 69/100\n",
            "134/134 [==============================] - 0s 1ms/step - loss: 0.3373 - accuracy: 0.8624\n",
            "Epoch 70/100\n",
            "134/134 [==============================] - 0s 1ms/step - loss: 0.3380 - accuracy: 0.8645\n",
            "Epoch 71/100\n",
            "134/134 [==============================] - 0s 1ms/step - loss: 0.3373 - accuracy: 0.8649\n",
            "Epoch 72/100\n",
            "134/134 [==============================] - 0s 1ms/step - loss: 0.3368 - accuracy: 0.8637\n",
            "Epoch 73/100\n",
            "134/134 [==============================] - 0s 1ms/step - loss: 0.3371 - accuracy: 0.8639\n",
            "Epoch 74/100\n",
            "134/134 [==============================] - 0s 1ms/step - loss: 0.3368 - accuracy: 0.8631\n",
            "Epoch 75/100\n",
            "134/134 [==============================] - 0s 1ms/step - loss: 0.3365 - accuracy: 0.8658\n",
            "Epoch 76/100\n",
            "134/134 [==============================] - 0s 1ms/step - loss: 0.3365 - accuracy: 0.8649\n",
            "Epoch 77/100\n",
            "134/134 [==============================] - 0s 999us/step - loss: 0.3364 - accuracy: 0.8651\n",
            "Epoch 78/100\n",
            "134/134 [==============================] - 0s 1ms/step - loss: 0.3359 - accuracy: 0.8648\n",
            "Epoch 79/100\n",
            "134/134 [==============================] - 0s 1ms/step - loss: 0.3358 - accuracy: 0.8630\n",
            "Epoch 80/100\n",
            "134/134 [==============================] - 0s 1ms/step - loss: 0.3360 - accuracy: 0.8630\n",
            "Epoch 81/100\n",
            "134/134 [==============================] - 0s 1ms/step - loss: 0.3359 - accuracy: 0.8631\n",
            "Epoch 82/100\n",
            "134/134 [==============================] - 0s 1ms/step - loss: 0.3354 - accuracy: 0.8639\n",
            "Epoch 83/100\n",
            "134/134 [==============================] - 0s 1ms/step - loss: 0.3353 - accuracy: 0.8655\n",
            "Epoch 84/100\n",
            "134/134 [==============================] - 0s 1ms/step - loss: 0.3352 - accuracy: 0.8628\n",
            "Epoch 85/100\n",
            "134/134 [==============================] - 0s 1ms/step - loss: 0.3350 - accuracy: 0.8642\n",
            "Epoch 86/100\n",
            "134/134 [==============================] - 0s 1ms/step - loss: 0.3346 - accuracy: 0.8637\n",
            "Epoch 87/100\n",
            "134/134 [==============================] - 0s 988us/step - loss: 0.3348 - accuracy: 0.8654\n",
            "Epoch 88/100\n",
            "134/134 [==============================] - 0s 992us/step - loss: 0.3347 - accuracy: 0.8643\n",
            "Epoch 89/100\n",
            "134/134 [==============================] - 0s 1ms/step - loss: 0.3346 - accuracy: 0.8649\n",
            "Epoch 90/100\n",
            "134/134 [==============================] - 0s 1ms/step - loss: 0.3343 - accuracy: 0.8639\n",
            "Epoch 91/100\n",
            "134/134 [==============================] - 0s 972us/step - loss: 0.3341 - accuracy: 0.8646\n",
            "Epoch 92/100\n",
            "134/134 [==============================] - 0s 988us/step - loss: 0.3339 - accuracy: 0.8645\n",
            "Epoch 93/100\n",
            "134/134 [==============================] - 0s 1ms/step - loss: 0.3339 - accuracy: 0.8648\n",
            "Epoch 94/100\n",
            "134/134 [==============================] - 0s 1ms/step - loss: 0.3338 - accuracy: 0.8633\n",
            "Epoch 95/100\n",
            "134/134 [==============================] - 0s 1ms/step - loss: 0.3334 - accuracy: 0.8639\n",
            "Epoch 96/100\n",
            "134/134 [==============================] - 0s 1ms/step - loss: 0.3332 - accuracy: 0.8631\n",
            "Epoch 97/100\n",
            "134/134 [==============================] - 0s 1ms/step - loss: 0.3332 - accuracy: 0.8648\n",
            "Epoch 98/100\n",
            "134/134 [==============================] - 0s 1ms/step - loss: 0.3332 - accuracy: 0.8646\n",
            "Epoch 99/100\n",
            "134/134 [==============================] - 0s 1ms/step - loss: 0.3330 - accuracy: 0.8640\n",
            "Epoch 100/100\n",
            "134/134 [==============================] - 0s 1ms/step - loss: 0.3323 - accuracy: 0.8636\n"
          ],
          "name": "stdout"
        },
        {
          "output_type": "execute_result",
          "data": {
            "text/plain": [
              "<tensorflow.python.keras.callbacks.History at 0x7fe9403b3fd0>"
            ]
          },
          "metadata": {
            "tags": []
          },
          "execution_count": 16
        }
      ]
    },
    {
      "cell_type": "code",
      "metadata": {
        "id": "FtbcmaKp89_p",
        "colab_type": "code",
        "colab": {
          "base_uri": "https://localhost:8080/",
          "height": 136
        },
        "outputId": "26c53a52-da3d-454e-b481-c03b6e88e8fd"
      },
      "source": [
        "y_pred = annClassifier.predict(X_test)\n",
        "y_pred"
      ],
      "execution_count": null,
      "outputs": [
        {
          "output_type": "execute_result",
          "data": {
            "text/plain": [
              "array([[0.04012001],\n",
              "       [0.09045723],\n",
              "       [0.11919066],\n",
              "       ...,\n",
              "       [0.02810419],\n",
              "       [0.05606207],\n",
              "       [0.07219261]], dtype=float32)"
            ]
          },
          "metadata": {
            "tags": []
          },
          "execution_count": 17
        }
      ]
    },
    {
      "cell_type": "code",
      "metadata": {
        "id": "BSIL7dSg9Cvp",
        "colab_type": "code",
        "colab": {
          "base_uri": "https://localhost:8080/",
          "height": 136
        },
        "outputId": "8c8e348a-ad41-4746-b995-a877ffd32c50"
      },
      "source": [
        "y_pred= y_pred > 0.5\n",
        "y_pred"
      ],
      "execution_count": null,
      "outputs": [
        {
          "output_type": "execute_result",
          "data": {
            "text/plain": [
              "array([[False],\n",
              "       [False],\n",
              "       [False],\n",
              "       ...,\n",
              "       [False],\n",
              "       [False],\n",
              "       [False]])"
            ]
          },
          "metadata": {
            "tags": []
          },
          "execution_count": 18
        }
      ]
    },
    {
      "cell_type": "code",
      "metadata": {
        "id": "sj6E_XG39FNp",
        "colab_type": "code",
        "colab": {
          "base_uri": "https://localhost:8080/",
          "height": 51
        },
        "outputId": "5c480182-29df-475e-af2a-bda8d80f0131"
      },
      "source": [
        "#Result\n",
        "cm= confusion_matrix(y_test,y_pred)\n",
        "cm"
      ],
      "execution_count": null,
      "outputs": [
        {
          "output_type": "execute_result",
          "data": {
            "text/plain": [
              "array([[2512,  116],\n",
              "       [ 358,  314]])"
            ]
          },
          "metadata": {
            "tags": []
          },
          "execution_count": 19
        }
      ]
    }
  ]
}